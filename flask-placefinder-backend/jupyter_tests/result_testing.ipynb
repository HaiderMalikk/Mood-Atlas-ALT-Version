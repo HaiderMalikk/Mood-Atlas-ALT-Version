{
 "cells": [
  {
   "cell_type": "markdown",
   "metadata": {},
   "source": [
    "# HERE TEST USING THE 'RESULTS' OBJECT FROM SAMPLE DATA JSON"
   ]
  },
  {
   "cell_type": "markdown",
   "metadata": {},
   "source": [
    "### NOTE: ignore the first object in json i.e 'final results.json' as its the city itself"
   ]
  },
  {
   "cell_type": "markdown",
   "metadata": {},
   "source": [
    "### Imports "
   ]
  },
  {
   "cell_type": "code",
   "execution_count": 1,
   "metadata": {},
   "outputs": [],
   "source": [
    "from langchain_openai import OpenAIEmbeddings, ChatOpenAI\n",
    "import pandas as pd\n",
    "from dotenv import load_dotenv\n",
    "import os\n",
    "import json"
   ]
  },
  {
   "cell_type": "markdown",
   "metadata": {},
   "source": [
    "### Load env file with api key"
   ]
  },
  {
   "cell_type": "code",
   "execution_count": 4,
   "metadata": {},
   "outputs": [
    {
     "data": {
      "text/plain": [
       "True"
      ]
     },
     "execution_count": 4,
     "metadata": {},
     "output_type": "execute_result"
    }
   ],
   "source": [
    "load_dotenv() # reading all vaiables from .env file (api key)"
   ]
  },
  {
   "cell_type": "markdown",
   "metadata": {},
   "source": [
    "### Load llm and test it "
   ]
  },
  {
   "cell_type": "code",
   "execution_count": 7,
   "metadata": {},
   "outputs": [],
   "source": [
    "OPENAPI_API_KEY = os.environ.get('OPENAI_API_KEY')"
   ]
  },
  {
   "cell_type": "code",
   "execution_count": 8,
   "metadata": {},
   "outputs": [],
   "source": [
    "llm = ChatOpenAI(model=\"gpt-4o-mini\", api_key=OPENAPI_API_KEY, temperature=0.2, max_tokens=2048)"
   ]
  },
  {
   "cell_type": "code",
   "execution_count": 9,
   "metadata": {},
   "outputs": [
    {
     "data": {
      "text/plain": [
       "AIMessage(content='Active', additional_kwargs={'refusal': None}, response_metadata={'token_usage': {'completion_tokens': 2, 'prompt_tokens': 12, 'total_tokens': 14, 'completion_tokens_details': {'accepted_prediction_tokens': 0, 'audio_tokens': 0, 'reasoning_tokens': 0, 'rejected_prediction_tokens': 0}, 'prompt_tokens_details': {'audio_tokens': 0, 'cached_tokens': 0}}, 'model_name': 'gpt-4o-mini-2024-07-18', 'system_fingerprint': 'fp_d02d531b47', 'finish_reason': 'stop', 'logprobs': None}, id='run-7a8b2eae-36e8-4108-9d67-650c5a71c428-0', usage_metadata={'input_tokens': 12, 'output_tokens': 2, 'total_tokens': 14, 'input_token_details': {'audio': 0, 'cache_read': 0}, 'output_token_details': {'audio': 0, 'reasoning': 0}})"
      ]
     },
     "execution_count": 9,
     "metadata": {},
     "output_type": "execute_result"
    }
   ],
   "source": [
    "llm.invoke(\"if active respond with active\")"
   ]
  },
  {
   "cell_type": "markdown",
   "metadata": {},
   "source": [
    "### Load JSON and print it "
   ]
  },
  {
   "cell_type": "code",
   "execution_count": null,
   "metadata": {},
   "outputs": [],
   "source": [
    "# Open and read the JSON file\n",
    "with open('./final_results.json', 'r') as file:\n",
    "    results_data = json.load(file)\n",
    "# Print the data\n",
    "print(results_data)"
   ]
  },
  {
   "cell_type": "markdown",
   "metadata": {},
   "source": [
    "### Get Test Objects and Properties From json "
   ]
  },
  {
   "cell_type": "code",
   "execution_count": 20,
   "metadata": {},
   "outputs": [
    {
     "name": "stdout",
     "output_type": "stream",
     "text": [
      "place data\n",
      "{'business_status': 'OPERATIONAL', 'geometry': {'location': {'lat': 43.6547284, 'lng': -79.3824216}, 'viewport': {'northeast': {'lat': 43.6560367802915, 'lng': -79.38150846970849}, 'southwest': {'lat': 43.65333881970851, 'lng': -79.38420643029151}}}, 'icon': 'https://maps.gstatic.com/mapfiles/place_api/icons/v1/png_71/lodging-71.png', 'icon_background_color': '#909CE1', 'icon_mask_base_uri': 'https://maps.gstatic.com/mapfiles/place_api/icons/v2/hotel_pinlet', 'name': 'Marriott Downtown at CF Toronto Eaton Centre', 'photos': [{'height': 320, 'html_attributions': ['<a href=\"https://maps.google.com/maps/contrib/116195274436403701222\">Marriott Downtown at CF Toronto Eaton Centre</a>'], 'photo_reference': 'AWYs27xwzQJBr09DZPNdeVIRek7sH-gocDDlsoUul70nzJlo4iHnI3H2tWlYpBW9ahVdrcxFo93oc119DxNqVJudW9rZlSwcKfdF0H3GCZzjDVmt4jn3sjUeGDoyGXQuA9urY7BB7gLT9b5hqCkf4ag70MyiTBvwdeDE9Hz8xjyHuSCuEiCD', 'width': 480}], 'place_id': 'ChIJ1WIA7Q7bKk0R9JK-tM30kE0', 'plus_code': {'compound_code': 'MJ39+V2 Toronto, ON, Canada', 'global_code': '87M2MJ39+V2'}, 'rating': 4.4, 'reference': 'ChIJ1WIA7Q7bKk0R9JK-tM30kE0', 'scope': 'GOOGLE', 'types': ['lodging', 'point_of_interest', 'establishment'], 'user_ratings_total': 3388, 'vicinity': '525 Bay Street, Toronto'}\n",
      "location data\n",
      "{'lat': 43.6547284, 'lng': -79.3824216}\n",
      "Latitude: 43.6547284, Longitude: -79.3824216\n"
     ]
    }
   ],
   "source": [
    "place = results_data[1]  # first location \n",
    "location = place['geometry']['location']\n",
    "print(\"place data\")\n",
    "print(place)\n",
    "print(\"location data\")\n",
    "print(location)\n",
    "lat, lon = location['lat'], location['lng']\n",
    "print(f\"Latitude: {lat}, Longitude: {lon}\")"
   ]
  }
 ],
 "metadata": {
  "kernelspec": {
   "display_name": "env-02",
   "language": "python",
   "name": "python3"
  },
  "language_info": {
   "codemirror_mode": {
    "name": "ipython",
    "version": 3
   },
   "file_extension": ".py",
   "mimetype": "text/x-python",
   "name": "python",
   "nbconvert_exporter": "python",
   "pygments_lexer": "ipython3",
   "version": "3.10.16"
  }
 },
 "nbformat": 4,
 "nbformat_minor": 2
}
